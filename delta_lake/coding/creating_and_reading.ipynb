{
 "cells": [
  {
   "metadata": {},
   "cell_type": "markdown",
   "source": "### Import Libraries",
   "id": "b89b689e1f5d2f07"
  },
  {
   "cell_type": "code",
   "id": "initial_id",
   "metadata": {
    "collapsed": true,
    "ExecuteTime": {
     "end_time": "2024-10-13T19:19:48.716845Z",
     "start_time": "2024-10-13T19:19:48.711939Z"
    }
   },
   "source": [
    "import pyspark\n",
    "from delta import *"
   ],
   "outputs": [],
   "execution_count": 7
  },
  {
   "metadata": {},
   "cell_type": "markdown",
   "source": "### Create Spark Session with Delta",
   "id": "7f938b5a6598af46"
  },
  {
   "metadata": {
    "ExecuteTime": {
     "end_time": "2024-10-13T19:19:48.802120Z",
     "start_time": "2024-10-13T19:19:48.736031Z"
    }
   },
   "cell_type": "code",
   "source": [
    "#  Create a spark session with Delta\n",
    "builder = pyspark.sql.SparkSession.builder.appName(\"DeltaTutorial\") \\\n",
    "    .config(\"spark.sql.extensions\", \"io.delta.sql.DeltaSparkSessionExtension\") \\\n",
    "    .config(\"spark.sql.catalog.spark_catalog\", \"org.apache.spark.sql.delta.catalog.DeltaCatalog\")\n",
    "\n",
    "# Create spark context\n",
    "spark = configure_spark_with_delta_pip(builder).getOrCreate()\n",
    "spark.sparkContext.setLogLevel(\"ERROR\")"
   ],
   "id": "6861c41213c8cc9c",
   "outputs": [],
   "execution_count": 8
  },
  {
   "metadata": {},
   "cell_type": "markdown",
   "source": "### Create Schema If Not Exists",
   "id": "f8a0977623ace06d"
  },
  {
   "metadata": {
    "ExecuteTime": {
     "end_time": "2024-10-13T19:19:48.846726Z",
     "start_time": "2024-10-13T19:19:48.819122Z"
    }
   },
   "cell_type": "code",
   "source": "spark.sql(f\"CREATE DATABASE IF NOT EXISTS demo_db\")",
   "id": "31bc063a1a8083e9",
   "outputs": [
    {
     "data": {
      "text/plain": [
       "DataFrame[]"
      ]
     },
     "execution_count": 9,
     "metadata": {},
     "output_type": "execute_result"
    }
   ],
   "execution_count": 9
  },
  {
   "metadata": {
    "ExecuteTime": {
     "end_time": "2024-10-13T19:19:48.938401Z",
     "start_time": "2024-10-13T19:19:48.878218Z"
    }
   },
   "cell_type": "code",
   "source": "spark.sql(\"show tables in demo_db\").show()",
   "id": "624b48977ea7bf8e",
   "outputs": [
    {
     "name": "stdout",
     "output_type": "stream",
     "text": [
      "+---------+---------+-----------+\n",
      "|namespace|tableName|isTemporary|\n",
      "+---------+---------+-----------+\n",
      "+---------+---------+-----------+\n",
      "\n"
     ]
    }
   ],
   "execution_count": 10
  },
  {
   "metadata": {},
   "cell_type": "markdown",
   "source": "### Define the Dataframe to Load",
   "id": "1615d9b55858e336"
  },
  {
   "metadata": {
    "ExecuteTime": {
     "end_time": "2024-10-13T19:19:49.028133Z",
     "start_time": "2024-10-13T19:19:48.983045Z"
    }
   },
   "cell_type": "code",
   "source": [
    "flight_schema_ddl = \"\"\"FL_DATE DATE, OP_CARRIER STRING, OP_CARRIER_FL_NUM INT, ORIGIN STRING, \n",
    "          ORIGIN_CITY_NAME STRING, DEST STRING, DEST_CITY_NAME STRING, CRS_DEP_TIME INT, DEP_TIME INT, \n",
    "          WHEELS_ON INT, TAXI_IN INT, CRS_ARR_TIME INT, ARR_TIME INT, CANCELLED STRING, DISTANCE INT\"\"\"\n",
    "\n",
    "flight_time_df = (spark.read.format(\"json\")\n",
    "                    .schema(flight_schema_ddl)\n",
    "                    .option(\"dateFormat\", \"M/d/y\")\n",
    "                    .load(f\"/Users/sahilnagpal/Desktop/wordsToSpeak/delta_lake/dataset/flight-time.json\")\n",
    ")"
   ],
   "id": "854cd91225639351",
   "outputs": [],
   "execution_count": 11
  },
  {
   "metadata": {},
   "cell_type": "markdown",
   "source": [
    "### Ways To Store Data in Delta Format\n",
    "#### Through following methods, we can store the delta table\n",
    "1. Using the Delta Format\n",
    "2. Using the Delta Table Builder API"
   ],
   "id": "b68392e99bb4caf8"
  },
  {
   "metadata": {},
   "cell_type": "markdown",
   "source": "#### 1. Using the Delta Format",
   "id": "d2196c7003e45e00"
  },
  {
   "metadata": {
    "ExecuteTime": {
     "end_time": "2024-10-13T19:19:50.456517Z",
     "start_time": "2024-10-13T19:19:49.071047Z"
    }
   },
   "cell_type": "code",
   "source": [
    "spark.sql('''CREATE TABLE IF NOT EXISTS demo_db.flight_time_tbl_delta (\n",
    "     FL_DATE DATE, \n",
    "     OP_CARRIER STRING, \n",
    "     OP_CARRIER_FL_NUM INT, \n",
    "     ORIGIN STRING, \n",
    "     ORIGIN_CITY_NAME STRING, \n",
    "     DEST STRING, \n",
    "     DEST_CITY_NAME STRING, \n",
    "     CRS_DEP_TIME INT, \n",
    "     DEP_TIME INT, \n",
    "     WHEELS_ON INT, \n",
    "     TAXI_IN INT, \n",
    "     CRS_ARR_TIME INT, \n",
    "     ARR_TIME INT, \n",
    "     CANCELLED STRING, \n",
    "     DISTANCE INT\n",
    " ) USING DELTA''')\n"
   ],
   "id": "c82e3edc0909a8b2",
   "outputs": [
    {
     "data": {
      "text/plain": [
       "DataFrame[]"
      ]
     },
     "execution_count": 12,
     "metadata": {},
     "output_type": "execute_result"
    }
   ],
   "execution_count": 12
  },
  {
   "metadata": {
    "ExecuteTime": {
     "end_time": "2024-10-13T19:19:55.967679Z",
     "start_time": "2024-10-13T19:19:50.532023Z"
    }
   },
   "cell_type": "code",
   "source": "spark.sql(\"describe detail demo_db.flight_time_tbl_delta\").show(truncate=False)",
   "id": "b47a778393f0bd0",
   "outputs": [
    {
     "name": "stderr",
     "output_type": "stream",
     "text": [
      "[Stage 4:=============================================>           (40 + 8) / 50]\r"
     ]
    },
    {
     "name": "stdout",
     "output_type": "stream",
     "text": [
      "+------+------------------------------------+-------------------------------------------+-----------+--------------------------------------------------------------------------------------------------------+-----------------------+-----------------------+----------------+-----------------+--------+-----------+----------+----------------+----------------+------------------------+\n",
      "|format|id                                  |name                                       |description|location                                                                                                |createdAt              |lastModified           |partitionColumns|clusteringColumns|numFiles|sizeInBytes|properties|minReaderVersion|minWriterVersion|tableFeatures           |\n",
      "+------+------------------------------------+-------------------------------------------+-----------+--------------------------------------------------------------------------------------------------------+-----------------------+-----------------------+----------------+-----------------+--------+-----------+----------+----------------+----------------+------------------------+\n",
      "|delta |b9936d35-dc04-4263-9d62-9a77e9714da8|spark_catalog.demo_db.flight_time_tbl_delta|NULL       |file:/Users/sahilnagpal/Desktop/wordsToSpeak/delta_lake/spark-warehouse/demo_db.db/flight_time_tbl_delta|2024-10-13 15:19:49.182|2024-10-13 15:19:49.897|[]              |[]               |0       |0          |{}        |1               |2               |[appendOnly, invariants]|\n",
      "+------+------------------------------------+-------------------------------------------+-----------+--------------------------------------------------------------------------------------------------------+-----------------------+-----------------------+----------------+-----------------+--------+-----------+----------+----------------+----------------+------------------------+\n",
      "\n"
     ]
    },
    {
     "name": "stderr",
     "output_type": "stream",
     "text": [
      "                                                                                \r"
     ]
    }
   ],
   "execution_count": 13
  },
  {
   "metadata": {
    "ExecuteTime": {
     "end_time": "2024-10-13T19:19:58.012510Z",
     "start_time": "2024-10-13T19:19:56.089418Z"
    }
   },
   "cell_type": "code",
   "source": [
    "# table is empty\n",
    "spark.sql('''select * from demo_db.flight_time_tbl_delta''').show()"
   ],
   "id": "22a9a1d5fb43ce72",
   "outputs": [
    {
     "name": "stderr",
     "output_type": "stream",
     "text": [
      "                                                                                \r"
     ]
    },
    {
     "name": "stdout",
     "output_type": "stream",
     "text": [
      "+-------+----------+-----------------+------+----------------+----+--------------+------------+--------+---------+-------+------------+--------+---------+--------+\n",
      "|FL_DATE|OP_CARRIER|OP_CARRIER_FL_NUM|ORIGIN|ORIGIN_CITY_NAME|DEST|DEST_CITY_NAME|CRS_DEP_TIME|DEP_TIME|WHEELS_ON|TAXI_IN|CRS_ARR_TIME|ARR_TIME|CANCELLED|DISTANCE|\n",
      "+-------+----------+-----------------+------+----------------+----+--------------+------------+--------+---------+-------+------------+--------+---------+--------+\n",
      "+-------+----------+-----------------+------+----------------+----+--------------+------------+--------+---------+-------+------------+--------+---------+--------+\n",
      "\n"
     ]
    }
   ],
   "execution_count": 14
  },
  {
   "metadata": {},
   "cell_type": "markdown",
   "source": "#### Load the dataframe into the table",
   "id": "e30183468780d821"
  },
  {
   "metadata": {
    "ExecuteTime": {
     "end_time": "2024-10-13T19:20:03.622284Z",
     "start_time": "2024-10-13T19:19:58.086691Z"
    }
   },
   "cell_type": "code",
   "source": [
    "flight_time_df\\\n",
    "    .write\\\n",
    "    .format(\"delta\")\\\n",
    "    .mode(\"append\")\\\n",
    "    .saveAsTable(\"demo_db.flight_time_tbl_delta\")"
   ],
   "id": "597e7b7d9ae48f3c",
   "outputs": [
    {
     "name": "stderr",
     "output_type": "stream",
     "text": [
      "                                                                                \r"
     ]
    }
   ],
   "execution_count": 15
  },
  {
   "metadata": {
    "ExecuteTime": {
     "end_time": "2024-10-13T19:20:05.877403Z",
     "start_time": "2024-10-13T19:20:03.639330Z"
    }
   },
   "cell_type": "code",
   "source": [
    "# table is loaded\n",
    "spark.sql('''select * from demo_db.flight_time_tbl_delta''').show()"
   ],
   "id": "d850987a20ffa95c",
   "outputs": [
    {
     "name": "stderr",
     "output_type": "stream",
     "text": [
      "                                                                                \r"
     ]
    },
    {
     "name": "stdout",
     "output_type": "stream",
     "text": [
      "+----------+----------+-----------------+------+----------------+----+--------------+------------+--------+---------+-------+------------+--------+---------+--------+\n",
      "|   FL_DATE|OP_CARRIER|OP_CARRIER_FL_NUM|ORIGIN|ORIGIN_CITY_NAME|DEST|DEST_CITY_NAME|CRS_DEP_TIME|DEP_TIME|WHEELS_ON|TAXI_IN|CRS_ARR_TIME|ARR_TIME|CANCELLED|DISTANCE|\n",
      "+----------+----------+-----------------+------+----------------+----+--------------+------------+--------+---------+-------+------------+--------+---------+--------+\n",
      "|2000-01-01|        DL|             1451|   BOS|      Boston, MA| ATL|   Atlanta, GA|        1115|    1113|     1343|      5|        1400|    1348|        0|     946|\n",
      "|2000-01-01|        DL|             1479|   BOS|      Boston, MA| ATL|   Atlanta, GA|        1315|    1311|     1536|      7|        1559|    1543|        0|     946|\n",
      "|2000-01-01|        DL|             1857|   BOS|      Boston, MA| ATL|   Atlanta, GA|        1415|    1414|     1642|      9|        1721|    1651|        0|     946|\n",
      "|2000-01-01|        DL|             1997|   BOS|      Boston, MA| ATL|   Atlanta, GA|        1715|    1720|     1955|     10|        2013|    2005|        0|     946|\n",
      "|2000-01-01|        DL|             2065|   BOS|      Boston, MA| ATL|   Atlanta, GA|        2015|    2010|     2230|     10|        2300|    2240|        0|     946|\n",
      "|2000-01-01|        US|             2619|   BOS|      Boston, MA| ATL|   Atlanta, GA|         650|     649|      956|      7|         955|    1003|        0|     946|\n",
      "|2000-01-01|        US|             2621|   BOS|      Boston, MA| ATL|   Atlanta, GA|        1440|    1446|     1713|      4|        1738|    1717|        0|     946|\n",
      "|2000-01-01|        DL|              346|   BTR| Baton Rouge, LA| ATL|   Atlanta, GA|        1740|    1744|     1957|      9|        2008|    2006|        0|     449|\n",
      "|2000-01-01|        DL|              412|   BTR| Baton Rouge, LA| ATL|   Atlanta, GA|        1345|    1345|     1552|      9|        1622|    1601|        0|     449|\n",
      "|2000-01-01|        DL|              299|   BUF|     Buffalo, NY| ATL|   Atlanta, GA|        1245|    1245|     1443|      5|        1455|    1448|        0|     712|\n",
      "|2000-01-01|        DL|              495|   BUF|     Buffalo, NY| ATL|   Atlanta, GA|        2035|    2035|     2226|      9|        2241|    2235|        0|     712|\n",
      "|2000-01-01|        DL|              677|   BUF|     Buffalo, NY| ATL|   Atlanta, GA|         710|     710|      940|      7|         925|     947|        0|     712|\n",
      "|2000-01-01|        DL|              251|   BWI|   Baltimore, MD| ATL|   Atlanta, GA|        2040|    2100|     2235|      7|        2233|    2242|        0|     576|\n",
      "|2000-01-01|        DL|             1003|   BWI|   Baltimore, MD| ATL|   Atlanta, GA|        1635|    1838|     2020|     12|        1832|    2032|        0|     576|\n",
      "|2000-01-01|        DL|             1501|   BWI|   Baltimore, MD| ATL|   Atlanta, GA|        1430|    1435|     1623|     12|        1634|    1635|        0|     576|\n",
      "|2000-01-01|        DL|             1907|   BWI|   Baltimore, MD| ATL|   Atlanta, GA|         530|     530|      716|      4|         723|     720|        0|     576|\n",
      "|2000-01-01|        DL|             2063|   BWI|   Baltimore, MD| ATL|   Atlanta, GA|        1250|    NULL|     NULL|   NULL|        1449|    NULL|        1|     576|\n",
      "|2000-01-01|        DL|             2111|   BWI|   Baltimore, MD| ATL|   Atlanta, GA|        1845|    1855|     2041|      9|        2046|    2050|        0|     576|\n",
      "|2000-01-01|        US|             2632|   BWI|   Baltimore, MD| ATL|   Atlanta, GA|         710|     710|     NULL|   NULL|         905|    NULL|        0|     576|\n",
      "|2000-01-01|        US|             2967|   BWI|   Baltimore, MD| ATL|   Atlanta, GA|        1700|    1700|     1845|      6|        1853|    1851|        0|     576|\n",
      "+----------+----------+-----------------+------+----------------+----+--------------+------------+--------+---------+-------+------------+--------+---------+--------+\n",
      "only showing top 20 rows\n",
      "\n"
     ]
    }
   ],
   "execution_count": 16
  },
  {
   "metadata": {},
   "cell_type": "markdown",
   "source": "#### Using the Delta Table Builder API",
   "id": "8f67d9e89150429"
  },
  {
   "metadata": {
    "ExecuteTime": {
     "end_time": "2024-10-13T19:20:53.800655Z",
     "start_time": "2024-10-13T19:20:53.206586Z"
    }
   },
   "cell_type": "code",
   "source": [
    "(DeltaTable.createOrReplace(spark)\n",
    "    .tableName(\"demo_db.flight_time_tbl_delta_api\")\n",
    "    .addColumn(\"id\", \"INT\")\n",
    "    .addColumn(\"FL_DATE\", \"DATE\")\n",
    "    .addColumn(\"OP_CARRIER\", \"STRING\")\n",
    "    .addColumn(\"OP_CARRIER_FL_NUM\", \"INT\")\n",
    "    .addColumn(\"ORIGIN\", \"STRING\")\n",
    "    .addColumn(\"ORIGIN_CITY_NAME\", \"STRING\")\n",
    "    .addColumn(\"DEST\", \"STRING\") \n",
    "    .addColumn(\"DEST_CITY_NAME\", \"STRING\")\n",
    "    .addColumn(\"CRS_DEP_TIME\", \"INT\")\n",
    "    .addColumn(\"DEP_TIME\", \"INT\")\n",
    "    .addColumn(\"WHEELS_ON\", \"INT\")\n",
    "    .addColumn(\"TAXI_IN\", \"INT\")\n",
    "    .addColumn(\"CRS_ARR_TIME\", \"INT\")\n",
    "    .addColumn(\"ARR_TIME\", \"INT\")\n",
    "    .addColumn(\"CANCELLED\", \"STRING\")\n",
    "    .addColumn(\"DISTANCE\", \"INT\")\n",
    "    .execute()\n",
    ")"
   ],
   "id": "e5c30ed54e3ee799",
   "outputs": [
    {
     "data": {
      "text/plain": [
       "<delta.tables.DeltaTable at 0x10f291ee0>"
      ]
     },
     "execution_count": 18,
     "metadata": {},
     "output_type": "execute_result"
    }
   ],
   "execution_count": 18
  },
  {
   "metadata": {},
   "cell_type": "markdown",
   "source": [
    "### Ways to Read Data in Delta Format\n",
    "#### Through following methods, we can read the delta table\n",
    "1. Using the spark sql\n",
    "2. Using the spark dataframe API"
   ],
   "id": "388b3199d7cf012d"
  },
  {
   "metadata": {},
   "cell_type": "markdown",
   "source": "#### Using the spark sql",
   "id": "cde17e7884529e62"
  },
  {
   "metadata": {
    "ExecuteTime": {
     "end_time": "2024-10-13T19:26:36.185616Z",
     "start_time": "2024-10-13T19:26:33.938692Z"
    }
   },
   "cell_type": "code",
   "source": "spark.sql('''select * from demo_db.flight_time_tbl_delta_api''').show()",
   "id": "502e953dbc4e6ff9",
   "outputs": [
    {
     "name": "stderr",
     "output_type": "stream",
     "text": [
      "                                                                                \r"
     ]
    },
    {
     "name": "stdout",
     "output_type": "stream",
     "text": [
      "+---+-------+----------+-----------------+------+----------------+----+--------------+------------+--------+---------+-------+------------+--------+---------+--------+\n",
      "| id|FL_DATE|OP_CARRIER|OP_CARRIER_FL_NUM|ORIGIN|ORIGIN_CITY_NAME|DEST|DEST_CITY_NAME|CRS_DEP_TIME|DEP_TIME|WHEELS_ON|TAXI_IN|CRS_ARR_TIME|ARR_TIME|CANCELLED|DISTANCE|\n",
      "+---+-------+----------+-----------------+------+----------------+----+--------------+------------+--------+---------+-------+------------+--------+---------+--------+\n",
      "+---+-------+----------+-----------------+------+----------------+----+--------------+------------+--------+---------+-------+------------+--------+---------+--------+\n",
      "\n"
     ]
    }
   ],
   "execution_count": 20
  },
  {
   "metadata": {},
   "cell_type": "markdown",
   "source": "#### Using the spark dataframe API",
   "id": "a68aa1fdbe54104e"
  },
  {
   "metadata": {
    "ExecuteTime": {
     "end_time": "2024-10-13T19:27:54.235717Z",
     "start_time": "2024-10-13T19:27:54.211915Z"
    }
   },
   "cell_type": "code",
   "source": [
    "data_location = \"/Users/sahilnagpal/Desktop/wordsToSpeak/delta_lake/spark-warehouse/demo_db.db/flight_time_tbl_delta/\"\n",
    "data = spark\\\n",
    "    .read\\\n",
    "    .format(\"delta\")\\\n",
    "    .load(data_location)"
   ],
   "id": "2fd3bde990b93a",
   "outputs": [],
   "execution_count": 21
  },
  {
   "metadata": {
    "ExecuteTime": {
     "end_time": "2024-10-13T19:28:02.705477Z",
     "start_time": "2024-10-13T19:28:02.229560Z"
    }
   },
   "cell_type": "code",
   "source": "data.show(2)",
   "id": "8bf7af6ae9175c5f",
   "outputs": [
    {
     "name": "stdout",
     "output_type": "stream",
     "text": [
      "+----------+----------+-----------------+------+----------------+----+--------------+------------+--------+---------+-------+------------+--------+---------+--------+\n",
      "|   FL_DATE|OP_CARRIER|OP_CARRIER_FL_NUM|ORIGIN|ORIGIN_CITY_NAME|DEST|DEST_CITY_NAME|CRS_DEP_TIME|DEP_TIME|WHEELS_ON|TAXI_IN|CRS_ARR_TIME|ARR_TIME|CANCELLED|DISTANCE|\n",
      "+----------+----------+-----------------+------+----------------+----+--------------+------------+--------+---------+-------+------------+--------+---------+--------+\n",
      "|2000-01-01|        DL|             1451|   BOS|      Boston, MA| ATL|   Atlanta, GA|        1115|    1113|     1343|      5|        1400|    1348|        0|     946|\n",
      "|2000-01-01|        DL|             1479|   BOS|      Boston, MA| ATL|   Atlanta, GA|        1315|    1311|     1536|      7|        1559|    1543|        0|     946|\n",
      "+----------+----------+-----------------+------+----------------+----+--------------+------------+--------+---------+-------+------------+--------+---------+--------+\n",
      "only showing top 2 rows\n",
      "\n"
     ]
    }
   ],
   "execution_count": 22
  },
  {
   "metadata": {},
   "cell_type": "code",
   "outputs": [],
   "execution_count": null,
   "source": "",
   "id": "62d7d27ed2dbb2a1"
  }
 ],
 "metadata": {
  "kernelspec": {
   "display_name": "Python 3",
   "language": "python",
   "name": "python3"
  },
  "language_info": {
   "codemirror_mode": {
    "name": "ipython",
    "version": 2
   },
   "file_extension": ".py",
   "mimetype": "text/x-python",
   "name": "python",
   "nbconvert_exporter": "python",
   "pygments_lexer": "ipython2",
   "version": "2.7.6"
  }
 },
 "nbformat": 4,
 "nbformat_minor": 5
}
