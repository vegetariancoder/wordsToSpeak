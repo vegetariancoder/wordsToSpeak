{
 "cells": [
  {
   "metadata": {},
   "cell_type": "markdown",
   "source": "### Import Libraries",
   "id": "2fadf0b14838a7e3"
  },
  {
   "metadata": {
    "collapsed": true,
    "ExecuteTime": {
     "end_time": "2025-08-31T03:41:39.212132Z",
     "start_time": "2025-08-31T03:41:33.333167Z"
    }
   },
   "cell_type": "code",
   "source": [
    "import pyspark\n",
    "from delta import *\n",
    "from pyspark.sql.functions import initcap"
   ],
   "id": "2913056488157268",
   "outputs": [],
   "execution_count": 1
  },
  {
   "metadata": {},
   "cell_type": "markdown",
   "source": "### Create Spark Session with Delta",
   "id": "fa31d7a14d9ebc58"
  },
  {
   "metadata": {
    "ExecuteTime": {
     "end_time": "2025-08-31T03:43:13.223195Z",
     "start_time": "2025-08-31T03:43:06.398506Z"
    }
   },
   "cell_type": "code",
   "source": [
    "#  Create a spark session with Delta\n",
    "builder = pyspark.sql.SparkSession.builder.appName(\"DeltaTutorial\") \\\n",
    "    .config(\"spark.sql.extensions\", \"io.delta.sql.DeltaSparkSessionExtension\") \\\n",
    "    .config(\"spark.sql.catalog.spark_catalog\", \"org.apache.spark.sql.delta.catalog.DeltaCatalog\")\n",
    "\n",
    "# Create spark context\n",
    "spark = configure_spark_with_delta_pip(builder).getOrCreate()\n",
    "spark.sparkContext.setLogLevel(\"ERROR\")"
   ],
   "id": "921f22bc6522d797",
   "outputs": [
    {
     "name": "stdout",
     "output_type": "stream",
     "text": [
      ":: loading settings :: url = jar:file:/Library/Python/3.9/site-packages/pyspark/jars/ivy-2.5.1.jar!/org/apache/ivy/core/settings/ivysettings.xml\n"
     ]
    },
    {
     "name": "stderr",
     "output_type": "stream",
     "text": [
      "Ivy Default Cache set to: /Users/sahilnagpal/.ivy2/cache\n",
      "The jars for the packages stored in: /Users/sahilnagpal/.ivy2/jars\n",
      "io.delta#delta-spark_2.12 added as a dependency\n",
      ":: resolving dependencies :: org.apache.spark#spark-submit-parent-624ab538-c9f0-4c80-838f-91accc027dd4;1.0\n",
      "\tconfs: [default]\n",
      "\tfound io.delta#delta-spark_2.12;3.2.0 in central\n",
      "\tfound io.delta#delta-storage;3.2.0 in central\n",
      "\tfound org.antlr#antlr4-runtime;4.9.3 in central\n",
      ":: resolution report :: resolve 240ms :: artifacts dl 9ms\n",
      "\t:: modules in use:\n",
      "\tio.delta#delta-spark_2.12;3.2.0 from central in [default]\n",
      "\tio.delta#delta-storage;3.2.0 from central in [default]\n",
      "\torg.antlr#antlr4-runtime;4.9.3 from central in [default]\n",
      "\t---------------------------------------------------------------------\n",
      "\t|                  |            modules            ||   artifacts   |\n",
      "\t|       conf       | number| search|dwnlded|evicted|| number|dwnlded|\n",
      "\t---------------------------------------------------------------------\n",
      "\t|      default     |   3   |   0   |   0   |   0   ||   3   |   0   |\n",
      "\t---------------------------------------------------------------------\n",
      ":: retrieving :: org.apache.spark#spark-submit-parent-624ab538-c9f0-4c80-838f-91accc027dd4\n",
      "\tconfs: [default]\n",
      "\t0 artifacts copied, 3 already retrieved (0kB/6ms)\n",
      "25/08/30 23:43:10 WARN NativeCodeLoader: Unable to load native-hadoop library for your platform... using builtin-java classes where applicable\n",
      "Setting default log level to \"WARN\".\n",
      "To adjust logging level use sc.setLogLevel(newLevel). For SparkR, use setLogLevel(newLevel).\n"
     ]
    }
   ],
   "execution_count": 2
  },
  {
   "metadata": {
    "ExecuteTime": {
     "end_time": "2025-08-31T03:46:41.844395Z",
     "start_time": "2025-08-31T03:46:37.962816Z"
    }
   },
   "cell_type": "code",
   "source": "spark.sql(f\"CREATE DATABASE IF NOT EXISTS demo_db\")",
   "id": "8994cce72e13c125",
   "outputs": [
    {
     "data": {
      "text/plain": [
       "DataFrame[]"
      ]
     },
     "execution_count": 3,
     "metadata": {},
     "output_type": "execute_result"
    }
   ],
   "execution_count": 3
  },
  {
   "metadata": {},
   "cell_type": "markdown",
   "source": "### Reading the data",
   "id": "7b33d29d65a3acde"
  },
  {
   "metadata": {
    "ExecuteTime": {
     "end_time": "2025-08-31T03:48:16.630870Z",
     "start_time": "2025-08-31T03:48:16.308606Z"
    }
   },
   "cell_type": "code",
   "source": [
    "df = spark.read.parquet(\"/Users/sahilnagpal/Desktop/wordsToSpeak/delta_lake/dataset/invoices_201_99457.parquet\")\n",
    "df.show(5,truncate=False)"
   ],
   "id": "ab0f4bf3c7512a15",
   "outputs": [
    {
     "name": "stdout",
     "output_type": "stream",
     "text": [
      "+-----------+----------+------+---+--------+--------+------+--------------+------------+-----------------+-------------+\n",
      "|customer_id|invoice_no|gender|age|category|quantity|price |payment_method|invoice_date|shopping_mall    |_rescued_data|\n",
      "+-----------+----------+------+---+--------+--------+------+--------------+------------+-----------------+-------------+\n",
      "|201        |I885979   |Female|26 |Clothing|3       |900.24|Debit Card    |2021-07-04  |Metrocity        |NULL         |\n",
      "|202        |I810217   |Female|51 |Clothing|3       |900.24|Cash          |2022-01-14  |Metrocity        |NULL         |\n",
      "|203        |I499170   |Female|38 |Toys    |1       |35.84 |Credit Card   |2022-02-20  |Kanyon           |NULL         |\n",
      "|204        |I792963   |Female|59 |Clothing|5       |1500.4|Debit Card    |2022-06-18  |Emaar Square Mall|NULL         |\n",
      "|205        |I311151   |Female|39 |Souvenir|3       |35.19 |Credit Card   |2022-04-27  |Mall of Istanbul |NULL         |\n",
      "+-----------+----------+------+---+--------+--------+------+--------------+------------+-----------------+-------------+\n",
      "only showing top 5 rows\n",
      "\n"
     ]
    }
   ],
   "execution_count": 6
  },
  {
   "metadata": {
    "ExecuteTime": {
     "end_time": "2025-08-31T03:50:36.653616Z",
     "start_time": "2025-08-31T03:50:33.830562Z"
    }
   },
   "cell_type": "code",
   "source": "df.repartition(5).write.mode(\"overwrite\").partitionBy(\"category\").saveAsTable(\"demo_db.optimize_ex1\")",
   "id": "cec1693c073404b7",
   "outputs": [
    {
     "name": "stderr",
     "output_type": "stream",
     "text": [
      "                                                                                \r"
     ]
    }
   ],
   "execution_count": 7
  },
  {
   "metadata": {
    "ExecuteTime": {
     "end_time": "2025-08-31T03:54:42.084117Z",
     "start_time": "2025-08-31T03:54:42.074156Z"
    }
   },
   "cell_type": "code",
   "source": "spark.conf.get(\"spark.sql.warehouse.dir\")",
   "id": "52d92a6e7a7a781",
   "outputs": [
    {
     "data": {
      "text/plain": [
       "'file:/Users/sahilnagpal/Desktop/wordsToSpeak/delta_lake/coding/spark-warehouse'"
      ]
     },
     "execution_count": 9,
     "metadata": {},
     "output_type": "execute_result"
    }
   ],
   "execution_count": 9
  },
  {
   "metadata": {},
   "cell_type": "markdown",
   "source": "### Create Delta Table",
   "id": "e7526f8d3760812b"
  },
  {
   "metadata": {
    "ExecuteTime": {
     "end_time": "2025-08-31T04:22:28.845426Z",
     "start_time": "2025-08-31T04:22:27.364222Z"
    }
   },
   "cell_type": "code",
   "source": "df.repartition(5).write.format(\"delta\").mode(\"overwrite\").partitionBy(\"category\").saveAsTable(\"demo_db.optimize_ex2\")",
   "id": "79960df0ca694dde",
   "outputs": [
    {
     "name": "stderr",
     "output_type": "stream",
     "text": [
      "                                                                                \r"
     ]
    }
   ],
   "execution_count": 23
  },
  {
   "metadata": {},
   "cell_type": "markdown",
   "source": "### Before Optimize",
   "id": "81411ca3170fba34"
  },
  {
   "metadata": {
    "ExecuteTime": {
     "end_time": "2025-08-31T04:21:32.640961Z",
     "start_time": "2025-08-31T04:21:30.335180Z"
    }
   },
   "cell_type": "code",
   "source": [
    "%%time\n",
    "df_ex1 = spark.read.table(\"demo_db.optimize_ex1\")\n",
    "df_out = df_ex1.where(df_ex1.category == \"Clothing\").collect()"
   ],
   "id": "850e73c936313a1d",
   "outputs": [
    {
     "name": "stderr",
     "output_type": "stream",
     "text": [
      "                                                                                \r"
     ]
    },
    {
     "name": "stdout",
     "output_type": "stream",
     "text": [
      "CPU times: user 240 ms, sys: 36.6 ms, total: 276 ms\n",
      "Wall time: 2.3 s\n"
     ]
    }
   ],
   "execution_count": 21
  },
  {
   "metadata": {},
   "cell_type": "markdown",
   "source": "### Optimize the Table",
   "id": "20230619155f6e4d"
  },
  {
   "metadata": {
    "ExecuteTime": {
     "end_time": "2025-08-31T04:23:31.102187Z",
     "start_time": "2025-08-31T04:23:28.929076Z"
    }
   },
   "cell_type": "code",
   "source": [
    "from delta.tables import DeltaTable\n",
    "table = DeltaTable.forName(spark, \"demo_db.optimize_ex1\")\n",
    "table.optimize().executeCompaction()"
   ],
   "id": "1de94c615a2ce4a7",
   "outputs": [
    {
     "name": "stderr",
     "output_type": "stream",
     "text": [
      "                                                                                \r"
     ]
    },
    {
     "data": {
      "text/plain": [
       "DataFrame[path: string, metrics: struct<numFilesAdded:bigint,numFilesRemoved:bigint,filesAdded:struct<min:bigint,max:bigint,avg:double,totalFiles:bigint,totalSize:bigint>,filesRemoved:struct<min:bigint,max:bigint,avg:double,totalFiles:bigint,totalSize:bigint>,partitionsOptimized:bigint,zOrderStats:struct<strategyName:string,inputCubeFiles:struct<num:bigint,size:bigint>,inputOtherFiles:struct<num:bigint,size:bigint>,inputNumCubes:bigint,mergedFiles:struct<num:bigint,size:bigint>,numOutputCubes:bigint,mergedNumCubes:bigint>,clusteringStats:struct<inputZCubeFiles:struct<numFiles:bigint,size:bigint>,inputOtherFiles:struct<numFiles:bigint,size:bigint>,inputNumZCubes:bigint,mergedFiles:struct<numFiles:bigint,size:bigint>,numOutputZCubes:bigint>,numBatches:bigint,totalConsideredFiles:bigint,totalFilesSkipped:bigint,preserveInsertionOrder:boolean,numFilesSkippedToReduceWriteAmplification:bigint,numBytesSkippedToReduceWriteAmplification:bigint,startTimeMs:bigint,endTimeMs:bigint,totalClusterParallelism:bigint,totalScheduledTasks:bigint,autoCompactParallelismStats:struct<maxClusterActiveParallelism:bigint,minClusterActiveParallelism:bigint,maxSessionActiveParallelism:bigint,minSessionActiveParallelism:bigint>,deletionVectorStats:struct<numDeletionVectorsRemoved:bigint,numDeletionVectorRowsRemoved:bigint>,numTableColumns:bigint,numTableColumnsWithStats:bigint>]"
      ]
     },
     "execution_count": 24,
     "metadata": {},
     "output_type": "execute_result"
    }
   ],
   "execution_count": 24
  },
  {
   "metadata": {
    "ExecuteTime": {
     "end_time": "2025-08-31T04:25:43.473854Z",
     "start_time": "2025-08-31T04:25:19.840242Z"
    }
   },
   "cell_type": "code",
   "source": "table.vacuum(0)",
   "id": "185edad0f5c4d9f6",
   "outputs": [
    {
     "name": "stderr",
     "output_type": "stream",
     "text": [
      "                                                                                \r"
     ]
    },
    {
     "name": "stdout",
     "output_type": "stream",
     "text": [
      "Deleted 40 files and directories in a total of 9 directories.\n"
     ]
    },
    {
     "data": {
      "text/plain": [
       "DataFrame[]"
      ]
     },
     "execution_count": 27,
     "metadata": {},
     "output_type": "execute_result"
    }
   ],
   "execution_count": 27
  },
  {
   "metadata": {
    "ExecuteTime": {
     "end_time": "2025-08-31T04:06:41.255863Z",
     "start_time": "2025-08-31T04:06:41.229547Z"
    }
   },
   "cell_type": "code",
   "source": "spark.sql(\"SET spark.databricks.delta.retentionDurationCheck.enabled = false\")",
   "id": "f82828de7c463bec",
   "outputs": [
    {
     "data": {
      "text/plain": [
       "DataFrame[key: string, value: string]"
      ]
     },
     "execution_count": 15,
     "metadata": {},
     "output_type": "execute_result"
    }
   ],
   "execution_count": 15
  },
  {
   "metadata": {},
   "cell_type": "markdown",
   "source": "### After Optimize",
   "id": "b093bd45530726fa"
  },
  {
   "metadata": {
    "ExecuteTime": {
     "end_time": "2025-08-31T04:26:50.608332Z",
     "start_time": "2025-08-31T04:26:49.868299Z"
    }
   },
   "cell_type": "code",
   "source": [
    "%%time\n",
    "df_ex1 = spark.read.table(\"demo_db.optimize_ex1\")\n",
    "df_out = df_ex1.where(df_ex1.category == \"Clothing\").collect()"
   ],
   "id": "70a4e957285ac0c1",
   "outputs": [
    {
     "name": "stdout",
     "output_type": "stream",
     "text": [
      "CPU times: user 297 ms, sys: 18.2 ms, total: 315 ms\n",
      "Wall time: 735 ms\n"
     ]
    }
   ],
   "execution_count": 30
  },
  {
   "metadata": {
    "ExecuteTime": {
     "end_time": "2025-08-31T04:22:22.529407Z",
     "start_time": "2025-08-31T04:22:22.507389Z"
    }
   },
   "cell_type": "code",
   "source": "spark.sql(\"drop table demo_db.optimize_ex2\")",
   "id": "18bd04658f839878",
   "outputs": [
    {
     "data": {
      "text/plain": [
       "DataFrame[]"
      ]
     },
     "execution_count": 22,
     "metadata": {},
     "output_type": "execute_result"
    }
   ],
   "execution_count": 22
  },
  {
   "metadata": {},
   "cell_type": "markdown",
   "source": [
    "### Small File Problem in Delta Lake (Spark)\n",
    "\n",
    "#### What is the Small File Problem?\n",
    "The small file problem occurs when a Delta table contains a large number of small Parquet files instead of fewer large ones.\n",
    "This leads to **performance degradation** in reading, writing, and optimizing data due to excessive metadata handling and I/O operations.\n",
    "\n",
    "---\n",
    "\n",
    "#### Root Causes\n",
    "\n",
    "#### 1. **Frequent Micro-Batch Writes**\n",
    "- **Description:** Streaming jobs or micro-batch pipelines write small amounts of data per batch.\n",
    "- **Impact:** Generates many small files, one for each micro-batch.\n",
    "\n",
    "---\n",
    "\n",
    "#### 2. **High Partition Count**\n",
    "- **Description:** Over-partitioning by multiple columns or by high-cardinality columns (e.g., `user_id`).\n",
    "- **Impact:** Creates many small partitions and small files inside each partition folder.\n",
    "\n",
    "---\n",
    "\n",
    "#### 3. **Low `spark.sql.files.maxRecordsPerFile` or `spark.sql.files.maxPartitionBytes` Settings**\n",
    "- **Description:** These settings control file sizes during writes.\n",
    "- **Impact:** If set too low, Spark produces smaller files.\n",
    "\n",
    "---\n",
    "\n",
    "#### 4. **Append-Only Writes without Compaction**\n",
    "- **Description:** Continuous `append` operations without periodic `OPTIMIZE` or `MERGE`.\n",
    "- **Impact:** Accumulates small files over time, especially for frequently updated tables.\n",
    "\n",
    "---\n",
    "\n",
    "#### 5. **Frequent Upserts (MERGE INTO)**\n",
    "- **Description:** Delta `MERGE` operations may rewrite multiple small files for updated partitions.\n",
    "- **Impact:** Can result in fragmented files if not followed by compaction.\n",
    "\n",
    "---\n",
    "\n",
    "#### 6. **Concurrent Writes**\n",
    "- **Description:** Multiple writers (jobs) writing to the same table simultaneously.\n",
    "- **Impact:** Each writer may create separate small files for the same partition.\n",
    "\n",
    "---\n",
    "\n",
    "#### 7. **Checkpointing in Streaming Pipelines**\n",
    "- **Description:** Streaming queries with checkpointing write output frequently to Delta tables.\n",
    "- **Impact:** Increases small files due to continuous micro-batch commits.\n",
    "\n",
    "---\n",
    "\n",
    "### Why is it a Problem?\n",
    "- Slower query performance due to excessive file scanning.\n",
    "- Increased metadata size in the Delta log.\n",
    "- Longer `OPTIMIZE` and `VACUUM` operations.\n",
    "- Higher storage costs due to inefficiency.\n",
    "\n",
    "---\n",
    "\n",
    "### Solutions\n",
    "- Use `OPTIMIZE` to compact small files into larger ones.\n",
    "- Adjust partitioning strategy to reduce over-partitioning.\n",
    "- Tune `spark.sql.files.maxRecordsPerFile` and related configs.\n",
    "- Batch data before writing (reduce write frequency).\n",
    "- Schedule periodic compaction for streaming tables.\n",
    "\n"
   ],
   "id": "9087e5d3332f8dad"
  },
  {
   "metadata": {},
   "cell_type": "code",
   "outputs": [],
   "execution_count": null,
   "source": "",
   "id": "747d900c1c7601cf"
  }
 ],
 "metadata": {
  "kernelspec": {
   "display_name": "Python 3",
   "language": "python",
   "name": "python3"
  },
  "language_info": {
   "codemirror_mode": {
    "name": "ipython",
    "version": 2
   },
   "file_extension": ".py",
   "mimetype": "text/x-python",
   "name": "python",
   "nbconvert_exporter": "python",
   "pygments_lexer": "ipython2",
   "version": "2.7.6"
  }
 },
 "nbformat": 4,
 "nbformat_minor": 5
}
