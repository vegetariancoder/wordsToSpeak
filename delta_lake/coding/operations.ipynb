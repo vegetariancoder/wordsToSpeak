{
 "cells": [
  {
   "metadata": {},
   "cell_type": "markdown",
   "source": "### Import Libraries",
   "id": "60db182b8aeb6bf6"
  },
  {
   "metadata": {
    "ExecuteTime": {
     "end_time": "2024-10-13T20:00:23.240374Z",
     "start_time": "2024-10-13T20:00:23.235670Z"
    }
   },
   "cell_type": "code",
   "source": [
    "import pyspark\n",
    "from delta import *\n",
    "from pyspark.sql.functions import initcap"
   ],
   "id": "eb59ae0fee27db92",
   "outputs": [],
   "execution_count": 13
  },
  {
   "metadata": {},
   "cell_type": "markdown",
   "source": "### Create Spark Session with Delta",
   "id": "4a61eb2e3f91f7ea"
  },
  {
   "metadata": {
    "ExecuteTime": {
     "end_time": "2024-10-13T19:45:53.709627Z",
     "start_time": "2024-10-13T19:45:48.522953Z"
    }
   },
   "cell_type": "code",
   "source": [
    "#  Create a spark session with Delta\n",
    "builder = pyspark.sql.SparkSession.builder.appName(\"DeltaTutorial\") \\\n",
    "    .config(\"spark.sql.extensions\", \"io.delta.sql.DeltaSparkSessionExtension\") \\\n",
    "    .config(\"spark.sql.catalog.spark_catalog\", \"org.apache.spark.sql.delta.catalog.DeltaCatalog\")\n",
    "\n",
    "# Create spark context\n",
    "spark = configure_spark_with_delta_pip(builder).getOrCreate()\n",
    "spark.sparkContext.setLogLevel(\"ERROR\")"
   ],
   "id": "60736dc130283b46",
   "outputs": [
    {
     "name": "stdout",
     "output_type": "stream",
     "text": [
      ":: loading settings :: url = jar:file:/Library/Python/3.9/site-packages/pyspark/jars/ivy-2.5.1.jar!/org/apache/ivy/core/settings/ivysettings.xml\n"
     ]
    },
    {
     "name": "stderr",
     "output_type": "stream",
     "text": [
      "Ivy Default Cache set to: /Users/sahilnagpal/.ivy2/cache\n",
      "The jars for the packages stored in: /Users/sahilnagpal/.ivy2/jars\n",
      "io.delta#delta-spark_2.12 added as a dependency\n",
      ":: resolving dependencies :: org.apache.spark#spark-submit-parent-820ee371-26f0-4bae-b10b-4476f175c4ba;1.0\n",
      "\tconfs: [default]\n",
      "\tfound io.delta#delta-spark_2.12;3.2.0 in central\n",
      "\tfound io.delta#delta-storage;3.2.0 in central\n",
      "\tfound org.antlr#antlr4-runtime;4.9.3 in central\n",
      ":: resolution report :: resolve 147ms :: artifacts dl 5ms\n",
      "\t:: modules in use:\n",
      "\tio.delta#delta-spark_2.12;3.2.0 from central in [default]\n",
      "\tio.delta#delta-storage;3.2.0 from central in [default]\n",
      "\torg.antlr#antlr4-runtime;4.9.3 from central in [default]\n",
      "\t---------------------------------------------------------------------\n",
      "\t|                  |            modules            ||   artifacts   |\n",
      "\t|       conf       | number| search|dwnlded|evicted|| number|dwnlded|\n",
      "\t---------------------------------------------------------------------\n",
      "\t|      default     |   3   |   0   |   0   |   0   ||   3   |   0   |\n",
      "\t---------------------------------------------------------------------\n",
      ":: retrieving :: org.apache.spark#spark-submit-parent-820ee371-26f0-4bae-b10b-4476f175c4ba\n",
      "\tconfs: [default]\n",
      "\t0 artifacts copied, 3 already retrieved (0kB/5ms)\n",
      "24/10/13 15:45:51 WARN NativeCodeLoader: Unable to load native-hadoop library for your platform... using builtin-java classes where applicable\n",
      "Setting default log level to \"WARN\".\n",
      "To adjust logging level use sc.setLogLevel(newLevel). For SparkR, use setLogLevel(newLevel).\n",
      "24/10/13 15:45:52 WARN Utils: Service 'SparkUI' could not bind on port 4040. Attempting port 4041.\n"
     ]
    }
   ],
   "execution_count": 2
  },
  {
   "metadata": {},
   "cell_type": "markdown",
   "source": "### Loading the data",
   "id": "92e220e5e2341fbc"
  },
  {
   "metadata": {
    "ExecuteTime": {
     "end_time": "2024-10-13T19:50:46.297252Z",
     "start_time": "2024-10-13T19:50:46.166809Z"
    }
   },
   "cell_type": "code",
   "source": "spark.sql(f\"CREATE DATABASE IF NOT EXISTS demo_db\")",
   "id": "a574d93e30584be5",
   "outputs": [
    {
     "data": {
      "text/plain": [
       "DataFrame[]"
      ]
     },
     "execution_count": 7,
     "metadata": {},
     "output_type": "execute_result"
    }
   ],
   "execution_count": 7
  },
  {
   "metadata": {
    "ExecuteTime": {
     "end_time": "2024-10-13T19:52:05.125006Z",
     "start_time": "2024-10-13T19:51:53.212326Z"
    }
   },
   "cell_type": "code",
   "source": [
    "spark.sql('''CREATE OR REPLACE TABLE demo_db.people(\n",
    "id INT,\n",
    "firstName STRING,\n",
    "lastName STRING,\n",
    "birthDate STRING)\n",
    "USING DELTA''')\n",
    "\n",
    "# inserting the data\n",
    "spark.sql('''\n",
    "INSERT OVERWRITE TABLE demo_db.people\n",
    "SELECT id, fname as firstName, lname as lastName, dob as birthDate\n",
    "FROM JSON.`/Users/sahilnagpal/Desktop/wordsToSpeak/delta_lake/dataset/people.json`\n",
    "''')\n"
   ],
   "id": "a18f896159ce8524",
   "outputs": [
    {
     "name": "stderr",
     "output_type": "stream",
     "text": [
      "                                                                                \r"
     ]
    },
    {
     "data": {
      "text/plain": [
       "DataFrame[]"
      ]
     },
     "execution_count": 8,
     "metadata": {},
     "output_type": "execute_result"
    }
   ],
   "execution_count": 8
  },
  {
   "metadata": {
    "ExecuteTime": {
     "end_time": "2024-10-13T19:52:44.610705Z",
     "start_time": "2024-10-13T19:52:40.802220Z"
    }
   },
   "cell_type": "code",
   "source": "spark.sql('''select * from demo_db.people''').show()",
   "id": "a36bcea76c1a543f",
   "outputs": [
    {
     "name": "stderr",
     "output_type": "stream",
     "text": [
      "                                                                                \r"
     ]
    },
    {
     "name": "stdout",
     "output_type": "stream",
     "text": [
      "+---+---------+--------+----------+\n",
      "| id|firstName|lastName| birthDate|\n",
      "+---+---------+--------+----------+\n",
      "|101| prashant|  pandey|1975-05-25|\n",
      "|102|    abdul|   hamid|1986-12-28|\n",
      "|103|  M David|  turner|1979-08-23|\n",
      "|104|  Kailash|   Patil|1972-09-02|\n",
      "+---+---------+--------+----------+\n",
      "\n"
     ]
    }
   ],
   "execution_count": 9
  },
  {
   "metadata": {},
   "cell_type": "markdown",
   "source": "### Operation on Delta Table",
   "id": "4c62bd34ef74d9c9"
  },
  {
   "metadata": {},
   "cell_type": "markdown",
   "source": "#### Delete the data using spark sql",
   "id": "827286f86faad107"
  },
  {
   "metadata": {
    "ExecuteTime": {
     "end_time": "2024-10-13T19:54:54.932535Z",
     "start_time": "2024-10-13T19:54:52.803624Z"
    }
   },
   "cell_type": "code",
   "source": "spark.sql('''delete from demo_db.people where firstName =\"M David\"''').show()",
   "id": "b76f6fe4a45d65cd",
   "outputs": [
    {
     "name": "stdout",
     "output_type": "stream",
     "text": [
      "+-----------------+\n",
      "|num_affected_rows|\n",
      "+-----------------+\n",
      "|                1|\n",
      "+-----------------+\n",
      "\n"
     ]
    }
   ],
   "execution_count": 10
  },
  {
   "metadata": {},
   "cell_type": "markdown",
   "source": "#### Delete the data using delta API",
   "id": "3c9888e347cb9395"
  },
  {
   "metadata": {
    "ExecuteTime": {
     "end_time": "2024-10-13T19:57:01.330370Z",
     "start_time": "2024-10-13T19:56:57.469449Z"
    }
   },
   "cell_type": "code",
   "source": [
    "from delta import DeltaTable\n",
    "\n",
    "people_dt = DeltaTable.forName(spark, \"demo_db.people\")\n",
    "people_dt.delete(\"firstName = 'abdul'\")"
   ],
   "id": "3937d692015a3b6e",
   "outputs": [
    {
     "name": "stderr",
     "output_type": "stream",
     "text": [
      "                                                                                \r"
     ]
    }
   ],
   "execution_count": 11
  },
  {
   "metadata": {},
   "cell_type": "markdown",
   "source": "#### Update the record using delta API",
   "id": "919c64f5c34844e3"
  },
  {
   "metadata": {
    "ExecuteTime": {
     "end_time": "2024-10-13T20:00:37.597086Z",
     "start_time": "2024-10-13T20:00:36.354931Z"
    }
   },
   "cell_type": "code",
   "source": [
    "people_dt.update(\n",
    "  condition = \"birthDate = '1975-05-25'\",\n",
    "  set = { \"firstName\": initcap(\"firstName\"), \"lastName\":  initcap(\"lastName\") }\n",
    ")"
   ],
   "id": "abca7b3d0789d0b",
   "outputs": [],
   "execution_count": 14
  },
  {
   "metadata": {
    "ExecuteTime": {
     "end_time": "2024-10-13T20:00:47.434101Z",
     "start_time": "2024-10-13T20:00:45.613195Z"
    }
   },
   "cell_type": "code",
   "source": "spark.sql('''select * from demo_db.people''').show()",
   "id": "a7dd95284abd4fe2",
   "outputs": [
    {
     "name": "stdout",
     "output_type": "stream",
     "text": [
      "+---+---------+--------+----------+\n",
      "| id|firstName|lastName| birthDate|\n",
      "+---+---------+--------+----------+\n",
      "|101| Prashant|  Pandey|1975-05-25|\n",
      "|104|  Kailash|   Patil|1972-09-02|\n",
      "+---+---------+--------+----------+\n",
      "\n"
     ]
    }
   ],
   "execution_count": 15
  },
  {
   "metadata": {},
   "cell_type": "markdown",
   "source": "#### Merge the record using delta API",
   "id": "1268a63ec45afff9"
  },
  {
   "metadata": {},
   "cell_type": "markdown",
   "source": "##### Read new dataset to merge into",
   "id": "fa03e4fbdcb7001e"
  },
  {
   "metadata": {
    "ExecuteTime": {
     "end_time": "2024-10-13T20:07:58.385628Z",
     "start_time": "2024-10-13T20:07:58.249763Z"
    }
   },
   "cell_type": "code",
   "source": [
    "source_df = spark.read.format(\"json\").load(\"/Users/sahilnagpal/Desktop/wordsToSpeak/delta_lake/dataset/people.json\")\n",
    "source_df.show()"
   ],
   "id": "f777f12d30b4cadb",
   "outputs": [
    {
     "name": "stdout",
     "output_type": "stream",
     "text": [
      "+----------+--------+---+------+\n",
      "|       dob|   fname| id| lname|\n",
      "+----------+--------+---+------+\n",
      "|1975-05-26|prashant|101|pandey|\n",
      "|1986-12-28|   abdul|102| hamid|\n",
      "|1979-08-23| M David|103|turner|\n",
      "|1972-09-02| Kailash|104| Patil|\n",
      "+----------+--------+---+------+\n",
      "\n"
     ]
    }
   ],
   "execution_count": 18
  },
  {
   "metadata": {},
   "cell_type": "markdown",
   "source": "##### Merging the data",
   "id": "5e8520a74d1f45d4"
  },
  {
   "metadata": {
    "ExecuteTime": {
     "end_time": "2024-10-13T20:08:46.333184Z",
     "start_time": "2024-10-13T20:08:44.356156Z"
    }
   },
   "cell_type": "code",
   "source": [
    "(people_dt.alias(\"tgt\")\n",
    "    .merge(source_df.alias(\"src\"), \"src.id=tgt.id\")\n",
    "    .whenMatchedDelete(condition=\"tgt.firstName='Kailash' and tgt.lastName='Patil'\")\n",
    "    .whenMatchedUpdate(condition=\"tgt.id = 101\", set = {\"tgt.birthDate\": \"src.dob\"})\n",
    "    .whenMatchedUpdate(set = {\"tgt.id\": \"src.id\", \"tgt.firstName\":\"src.fname\", \"tgt.lastName\":\"src.lname\", \"tgt.birthDate\":\"src.dob\"})\n",
    "    .whenNotMatchedInsert(values = {\"tgt.id\": \"src.id\", \"tgt.firstName\":\"src.fname\", \"tgt.lastName\":\"src.lname\", \"tgt.birthDate\":\"src.dob\"})\n",
    "    .execute()\n",
    ")"
   ],
   "id": "fe607b9d85cb8abb",
   "outputs": [],
   "execution_count": 19
  },
  {
   "metadata": {
    "ExecuteTime": {
     "end_time": "2024-10-13T20:09:15.878467Z",
     "start_time": "2024-10-13T20:09:13.747804Z"
    }
   },
   "cell_type": "code",
   "source": "spark.sql('''select * from demo_db.people''').show()",
   "id": "25c53e2b1051f823",
   "outputs": [
    {
     "name": "stderr",
     "output_type": "stream",
     "text": [
      "                                                                                \r"
     ]
    },
    {
     "name": "stdout",
     "output_type": "stream",
     "text": [
      "+---+---------+--------+----------+\n",
      "| id|firstName|lastName| birthDate|\n",
      "+---+---------+--------+----------+\n",
      "|101| Prashant|  Pandey|1975-05-26|\n",
      "|102|    abdul|   hamid|1986-12-28|\n",
      "|103|  M David|  turner|1979-08-23|\n",
      "+---+---------+--------+----------+\n",
      "\n"
     ]
    }
   ],
   "execution_count": 20
  },
  {
   "metadata": {},
   "cell_type": "code",
   "outputs": [],
   "execution_count": null,
   "source": "",
   "id": "c2b9150d031ef184"
  }
 ],
 "metadata": {
  "kernelspec": {
   "display_name": "Python 3",
   "language": "python",
   "name": "python3"
  },
  "language_info": {
   "codemirror_mode": {
    "name": "ipython",
    "version": 2
   },
   "file_extension": ".py",
   "mimetype": "text/x-python",
   "name": "python",
   "nbconvert_exporter": "python",
   "pygments_lexer": "ipython2",
   "version": "2.7.6"
  }
 },
 "nbformat": 4,
 "nbformat_minor": 5
}
