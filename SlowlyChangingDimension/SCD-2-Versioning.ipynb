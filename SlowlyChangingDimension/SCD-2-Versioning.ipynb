{
 "cells": [
  {
   "metadata": {},
   "cell_type": "markdown",
   "source": [
    "#### What is SCD Type-2 ?\n",
    "\n",
    "- SCD Type-2 tracks changes in a dimension table by creating a new record each time a change occurs. \n",
    "- This allows you to maintain historical data. Each record is uniquely identified by a surrogate key and includes metadata such as:\n",
    "1. Effective start and end dates: These indicate when a record was active.\n",
    "2. Active flag: This indicates whether the record is the current one.\n",
    "3. Version number: This tracks the number of changes to the record."
   ],
   "id": "7e3cf59108155298"
  },
  {
   "metadata": {},
   "cell_type": "markdown",
   "source": [
    "### Steps to Implement SCD Type-2 in PySpark\n",
    "\n",
    "1. Create Initial Data (Source Table): Represent the incoming data with updates.\n",
    "2. Create Dimension Table: Represent the target dimension table where data is stored.\n",
    "3. Compare Source and Dimension Tables: Identify new, changed, and unchanged records.\n",
    "4. Insert Updated and New Records: Update the dimension table accordingly."
   ],
   "id": "9ae5a86e17f1ab98"
  },
  {
   "metadata": {},
   "cell_type": "markdown",
   "source": "### Import Library",
   "id": "7bef4ff1d4a7f7b7"
  },
  {
   "cell_type": "code",
   "id": "initial_id",
   "metadata": {
    "collapsed": true,
    "ExecuteTime": {
     "end_time": "2024-12-27T04:52:21.457419Z",
     "start_time": "2024-12-27T04:52:21.452900Z"
    }
   },
   "source": [
    "from pyspark.sql import SparkSession\n",
    "from pyspark.sql.functions import col, lit, when, current_date,expr\n",
    "from pyspark.sql.types import StructType, StructField, IntegerType, StringType, DateType"
   ],
   "outputs": [],
   "execution_count": 50
  },
  {
   "metadata": {},
   "cell_type": "markdown",
   "source": "### Create Spark Session",
   "id": "325902f1e9ce452f"
  },
  {
   "metadata": {
    "ExecuteTime": {
     "end_time": "2024-12-27T04:52:21.485955Z",
     "start_time": "2024-12-27T04:52:21.477733Z"
    }
   },
   "cell_type": "code",
   "source": [
    "spark = SparkSession\\\n",
    "    .builder\\\n",
    "    .master(\"local\")\\\n",
    "    .appName(\"SCD Type-2 Example\")\\\n",
    "    .getOrCreate()"
   ],
   "id": "c64793edcd41f6ac",
   "outputs": [],
   "execution_count": 51
  },
  {
   "metadata": {},
   "cell_type": "markdown",
   "source": "### Create Source Data",
   "id": "e4dcfaf9d6fa3f6f"
  },
  {
   "metadata": {
    "ExecuteTime": {
     "end_time": "2024-12-27T04:52:21.916512Z",
     "start_time": "2024-12-27T04:52:21.508369Z"
    }
   },
   "cell_type": "code",
   "source": [
    "source_df = spark\\\n",
    "    .read\\\n",
    "    .format(\"csv\")\\\n",
    "    .option(\"header\",True)\\\n",
    "    .option(\"inferSchema\",True)\\\n",
    "    .load(\"/Users/sahilnagpal/Desktop/wordsToSpeak/SlowlyChangingDimension/source_file.csv\")\n",
    "\n",
    "source_df.show()"
   ],
   "id": "b68ce60ad26c4f2b",
   "outputs": [
    {
     "name": "stdout",
     "output_type": "stream",
     "text": [
      "+---+-------+----------+--------------+\n",
      "| id|   name|department|effective_date|\n",
      "+---+-------+----------+--------------+\n",
      "|  1|  Alice|        HR|    2024-01-01|\n",
      "|  2|    Bob|   Finance|    2024-01-01|\n",
      "|  3|Charlie|        IT|    2024-01-01|\n",
      "|  4|  Diana|        HR|    2024-01-01|\n",
      "|  5|    Eve|        IT|    2024-01-01|\n",
      "+---+-------+----------+--------------+\n",
      "\n"
     ]
    }
   ],
   "execution_count": 52
  },
  {
   "metadata": {},
   "cell_type": "markdown",
   "source": "### Create Dimension Data (Existing Dimension Table)",
   "id": "2d034930fe80817"
  },
  {
   "metadata": {
    "ExecuteTime": {
     "end_time": "2024-12-27T04:52:22.339389Z",
     "start_time": "2024-12-27T04:52:22.060706Z"
    }
   },
   "cell_type": "code",
   "source": [
    "dimension_df = spark\\\n",
    "    .read\\\n",
    "    .format(\"csv\")\\\n",
    "    .option(\"header\",True)\\\n",
    "    .option(\"inferSchema\",True)\\\n",
    "    .load(\"/Users/sahilnagpal/Desktop/wordsToSpeak/SlowlyChangingDimension/dimension_file.csv\")\n",
    "\n",
    "dimension_df.show()"
   ],
   "id": "ec159d437784604a",
   "outputs": [
    {
     "name": "stdout",
     "output_type": "stream",
     "text": [
      "+---+-------+----------+--------------------+------------------+---------+-------+\n",
      "| id|   name|department|effective_start_date|effective_end_date|is_active|version|\n",
      "+---+-------+----------+--------------------+------------------+---------+-------+\n",
      "|  1|  Alice|        HR|          2024-01-01|        2099-12-31|     true|    1.0|\n",
      "|  2|    Bob|   Finance|          2024-01-01|        2099-12-31|     true|    1.0|\n",
      "|  3|Charlie|        IT|          2024-01-01|        2099-12-31|     true|    1.0|\n",
      "|  4|  Diana| Marketing|          2024-01-01|        2099-12-31|     true|    1.0|\n",
      "+---+-------+----------+--------------------+------------------+---------+-------+\n",
      "\n"
     ]
    }
   ],
   "execution_count": 53
  },
  {
   "metadata": {},
   "cell_type": "markdown",
   "source": "### Compare Source and Dimension Tables",
   "id": "e746f3aa00e446a"
  },
  {
   "metadata": {},
   "cell_type": "markdown",
   "source": [
    "#### Implemented a join (specifically left join) based on matching columns which is ID here\n",
    "##### Question Why Left Join Only : "
   ],
   "id": "1fd6f348d6d2e16d"
  },
  {
   "metadata": {
    "ExecuteTime": {
     "end_time": "2024-12-27T04:52:22.392077Z",
     "start_time": "2024-12-27T04:52:22.378480Z"
    }
   },
   "cell_type": "code",
   "source": [
    "# Join source and dimension data on 'id' to compare\n",
    "comparison_df = source_df.join(\n",
    "    dimension_df,\n",
    "    on=\"id\",\n",
    "    how=\"left_outer\"\n",
    ")"
   ],
   "id": "3df9acb5ca8d1909",
   "outputs": [],
   "execution_count": 54
  },
  {
   "metadata": {
    "ExecuteTime": {
     "end_time": "2024-12-27T04:52:22.753516Z",
     "start_time": "2024-12-27T04:52:22.503878Z"
    }
   },
   "cell_type": "code",
   "source": "comparison_df.show()",
   "id": "716e07a0f91ed9d2",
   "outputs": [
    {
     "name": "stdout",
     "output_type": "stream",
     "text": [
      "+---+-------+----------+--------------+-------+----------+--------------------+------------------+---------+-------+\n",
      "| id|   name|department|effective_date|   name|department|effective_start_date|effective_end_date|is_active|version|\n",
      "+---+-------+----------+--------------+-------+----------+--------------------+------------------+---------+-------+\n",
      "|  1|  Alice|        HR|    2024-01-01|  Alice|        HR|          2024-01-01|        2099-12-31|     true|    1.0|\n",
      "|  2|    Bob|   Finance|    2024-01-01|    Bob|   Finance|          2024-01-01|        2099-12-31|     true|    1.0|\n",
      "|  3|Charlie|        IT|    2024-01-01|Charlie|        IT|          2024-01-01|        2099-12-31|     true|    1.0|\n",
      "|  4|  Diana|        HR|    2024-01-01|  Diana| Marketing|          2024-01-01|        2099-12-31|     true|    1.0|\n",
      "|  5|    Eve|        IT|    2024-01-01|   NULL|      NULL|                NULL|              NULL|     NULL|   NULL|\n",
      "+---+-------+----------+--------------+-------+----------+--------------------+------------------+---------+-------+\n",
      "\n"
     ]
    }
   ],
   "execution_count": 55
  },
  {
   "metadata": {},
   "cell_type": "markdown",
   "source": [
    "### a) Identify New Records (Not in Dimension Table)\n",
    "\n",
    "- In this case we first check for new records, this is done by checking if matching column in existing data is missing (or null).\n",
    "- In the example below, we know ```id=5``` is missing in dimension table and coming new from source"
   ],
   "id": "4f2745b935ffd8b"
  },
  {
   "metadata": {
    "ExecuteTime": {
     "end_time": "2024-12-27T04:52:22.967501Z",
     "start_time": "2024-12-27T04:52:22.778395Z"
    }
   },
   "cell_type": "code",
   "source": [
    "new_records = comparison_df\\\n",
    "    .filter(dimension_df.id.isNull())\\\n",
    "    .select(\n",
    "    source_df[\"*\"],\n",
    "    lit(\"2099-12-31\").cast(DateType()).alias(\"effective_end_date\"),\n",
    "    lit(True).alias(\"is_active\"),\n",
    "    lit(1).alias(\"version\")\n",
    ")\n",
    "\n",
    "new_records.show()"
   ],
   "id": "8442fbfdd02b5f01",
   "outputs": [
    {
     "name": "stdout",
     "output_type": "stream",
     "text": [
      "+---+----+----------+--------------+------------------+---------+-------+\n",
      "| id|name|department|effective_date|effective_end_date|is_active|version|\n",
      "+---+----+----------+--------------+------------------+---------+-------+\n",
      "|  5| Eve|        IT|    2024-01-01|        2099-12-31|     true|      1|\n",
      "+---+----+----------+--------------+------------------+---------+-------+\n",
      "\n"
     ]
    }
   ],
   "execution_count": 56
  },
  {
   "metadata": {},
   "cell_type": "markdown",
   "source": [
    "### b) Identify Changed Records (Values are Different)\n",
    "- In this case , we will check for non-matching records where we essentially put two conditions which are as follows:\n",
    "1. Dimension ID is not null\n",
    "2. Other Key columns are different in source and existing dimension table\n",
    "\n",
    "- In our case for ```id=4``` the record has same ```name``` but different ```department name``` so it will appear in change dataframe."
   ],
   "id": "5f72e8be22264490"
  },
  {
   "metadata": {
    "ExecuteTime": {
     "end_time": "2024-12-27T04:52:23.211095Z",
     "start_time": "2024-12-27T04:52:23.023549Z"
    }
   },
   "cell_type": "code",
   "source": [
    "changed_records = comparison_df\\\n",
    "    .filter(\n",
    "    (dimension_df.id.isNotNull()) & \n",
    "    ((source_df.name != dimension_df.name) | (source_df.department != dimension_df.department))\n",
    "    )\n",
    "\n",
    "\n",
    "changed_records.show()"
   ],
   "id": "d91d57726f39ec1c",
   "outputs": [
    {
     "name": "stdout",
     "output_type": "stream",
     "text": [
      "+---+-----+----------+--------------+-----+----------+--------------------+------------------+---------+-------+\n",
      "| id| name|department|effective_date| name|department|effective_start_date|effective_end_date|is_active|version|\n",
      "+---+-----+----------+--------------+-----+----------+--------------------+------------------+---------+-------+\n",
      "|  4|Diana|        HR|    2024-01-01|Diana| Marketing|          2024-01-01|        2099-12-31|     true|    1.0|\n",
      "+---+-----+----------+--------------+-----+----------+--------------------+------------------+---------+-------+\n",
      "\n"
     ]
    }
   ],
   "execution_count": 57
  },
  {
   "metadata": {},
   "cell_type": "markdown",
   "source": [
    "### c) Get Updated Records\n",
    "- In this case, we are going to get source information since this is going to be our latest info.\n",
    "- For this we will add all the columns matching with exisiting dimension table and following steps will happen:\n",
    "1. The source date column will become our ```effective_start_date```.\n",
    "2. Mark ```is_active``` flag as ```TRUE```.\n",
    "3. Increase the counter of version from dimension table by 1."
   ],
   "id": "13b6e8ad4bcefc49"
  },
  {
   "metadata": {
    "ExecuteTime": {
     "end_time": "2024-12-27T04:52:23.470758Z",
     "start_time": "2024-12-27T04:52:23.238356Z"
    }
   },
   "cell_type": "code",
   "source": [
    "updated_records = changed_records\\\n",
    "    .select(source_df[\"id\"],\n",
    "            source_df[\"name\"],\n",
    "            source_df[\"department\"],\n",
    "            source_df[\"effective_date\"].alias(\"effective_start_date\"),\n",
    "            lit(\"2099-12-31\").cast(DateType()).alias(\"effective_end_date\"),\n",
    "            lit(True).alias(\"is_active\"),\n",
    "            (dimension_df.version + 1).alias(\"version\")\n",
    "            )\n",
    "\n",
    "updated_records.show()"
   ],
   "id": "273f3df1d53c4fae",
   "outputs": [
    {
     "name": "stdout",
     "output_type": "stream",
     "text": [
      "+---+-----+----------+--------------------+------------------+---------+-------+\n",
      "| id| name|department|effective_start_date|effective_end_date|is_active|version|\n",
      "+---+-----+----------+--------------------+------------------+---------+-------+\n",
      "|  4|Diana|        HR|          2024-01-01|        2099-12-31|     true|    2.0|\n",
      "+---+-----+----------+--------------------+------------------+---------+-------+\n",
      "\n"
     ]
    }
   ],
   "execution_count": 58
  },
  {
   "metadata": {},
   "cell_type": "markdown",
   "source": "### d) Expire old records in the dimension table",
   "id": "edf6dd1615e824b1"
  },
  {
   "metadata": {
    "ExecuteTime": {
     "end_time": "2024-12-27T04:52:23.760620Z",
     "start_time": "2024-12-27T04:52:23.516296Z"
    }
   },
   "cell_type": "code",
   "source": [
    "expired_records = changed_records.select(\n",
    "    dimension_df[\"*\"]\n",
    ").withColumn(\"is_active\", lit(False))\n",
    "\n",
    "expired_records.show()"
   ],
   "id": "f6385d8adce156c8",
   "outputs": [
    {
     "name": "stdout",
     "output_type": "stream",
     "text": [
      "+---+-----+----------+--------------------+------------------+---------+-------+\n",
      "| id| name|department|effective_start_date|effective_end_date|is_active|version|\n",
      "+---+-----+----------+--------------------+------------------+---------+-------+\n",
      "|  4|Diana| Marketing|          2024-01-01|        2099-12-31|    false|    1.0|\n",
      "+---+-----+----------+--------------------+------------------+---------+-------+\n",
      "\n"
     ]
    }
   ],
   "execution_count": 59
  },
  {
   "metadata": {},
   "cell_type": "markdown",
   "source": "### Union All Updates and New Data and Combine expired records with updates to form the final dimension table",
   "id": "3e6aa4510c0ecee3"
  },
  {
   "metadata": {
    "ExecuteTime": {
     "end_time": "2024-12-27T04:52:24.251958Z",
     "start_time": "2024-12-27T04:52:23.912016Z"
    }
   },
   "cell_type": "code",
   "source": [
    "# Union All Updates and New Data\n",
    "scd2_updates = updated_records.union(new_records)\n",
    "\n",
    "scd2_updates.show()"
   ],
   "id": "e5c13ffb1440ddc3",
   "outputs": [
    {
     "name": "stdout",
     "output_type": "stream",
     "text": [
      "+---+-----+----------+--------------------+------------------+---------+-------+\n",
      "| id| name|department|effective_start_date|effective_end_date|is_active|version|\n",
      "+---+-----+----------+--------------------+------------------+---------+-------+\n",
      "|  4|Diana|        HR|          2024-01-01|        2099-12-31|     true|    2.0|\n",
      "|  5|  Eve|        IT|          2024-01-01|        2099-12-31|     true|    1.0|\n",
      "+---+-----+----------+--------------------+------------------+---------+-------+\n",
      "\n"
     ]
    }
   ],
   "execution_count": 60
  },
  {
   "metadata": {
    "ExecuteTime": {
     "end_time": "2024-12-27T04:52:25.010634Z",
     "start_time": "2024-12-27T04:52:24.276749Z"
    }
   },
   "cell_type": "code",
   "source": [
    "# Combine expired records with updates to form the final dimension table\n",
    "\n",
    "final_df = dimension_df\\\n",
    "    .union(scd2_updates)\\\n",
    "    .union(expired_records)\n",
    "\n",
    "final_df.show()"
   ],
   "id": "5063b5b216dfb19f",
   "outputs": [
    {
     "name": "stdout",
     "output_type": "stream",
     "text": [
      "+---+-------+----------+--------------------+------------------+---------+-------+\n",
      "| id|   name|department|effective_start_date|effective_end_date|is_active|version|\n",
      "+---+-------+----------+--------------------+------------------+---------+-------+\n",
      "|  1|  Alice|        HR|          2024-01-01|        2099-12-31|     true|    1.0|\n",
      "|  2|    Bob|   Finance|          2024-01-01|        2099-12-31|     true|    1.0|\n",
      "|  3|Charlie|        IT|          2024-01-01|        2099-12-31|     true|    1.0|\n",
      "|  4|  Diana| Marketing|          2024-01-01|        2099-12-31|     true|    1.0|\n",
      "|  4|  Diana|        HR|          2024-01-01|        2099-12-31|     true|    2.0|\n",
      "|  5|    Eve|        IT|          2024-01-01|        2099-12-31|     true|    1.0|\n",
      "|  4|  Diana| Marketing|          2024-01-01|        2099-12-31|    false|    1.0|\n",
      "+---+-------+----------+--------------------+------------------+---------+-------+\n",
      "\n"
     ]
    }
   ],
   "execution_count": 61
  },
  {
   "metadata": {
    "ExecuteTime": {
     "end_time": "2024-12-27T04:52:25.037179Z",
     "start_time": "2024-12-27T04:52:25.034205Z"
    }
   },
   "cell_type": "code",
   "source": "",
   "id": "a61844e6f383ca9f",
   "outputs": [],
   "execution_count": null
  }
 ],
 "metadata": {
  "kernelspec": {
   "display_name": "Python 3",
   "language": "python",
   "name": "python3"
  },
  "language_info": {
   "codemirror_mode": {
    "name": "ipython",
    "version": 2
   },
   "file_extension": ".py",
   "mimetype": "text/x-python",
   "name": "python",
   "nbconvert_exporter": "python",
   "pygments_lexer": "ipython2",
   "version": "2.7.6"
  }
 },
 "nbformat": 4,
 "nbformat_minor": 5
}
