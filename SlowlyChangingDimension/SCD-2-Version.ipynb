{
 "cells": [
  {
   "metadata": {
    "ExecuteTime": {
     "end_time": "2024-12-30T04:21:43.108779Z",
     "start_time": "2024-12-30T04:21:43.104264Z"
    }
   },
   "cell_type": "code",
   "source": [
    "from pyspark.sql import SparkSession\n",
    "from pyspark.sql.functions import col, lit, when, current_date, expr, row_number\n",
    "from pyspark.sql.window import Window"
   ],
   "id": "16ccde60777720cf",
   "outputs": [],
   "execution_count": 57
  },
  {
   "metadata": {
    "ExecuteTime": {
     "end_time": "2024-12-30T04:20:24.162326Z",
     "start_time": "2024-12-30T04:20:24.154601Z"
    }
   },
   "cell_type": "code",
   "source": [
    "spark = SparkSession\\\n",
    "    .builder\\\n",
    "    .master(\"local\")\\\n",
    "    .appName(\"SCD Type-2 Version Example\")\\\n",
    "    .getOrCreate()"
   ],
   "id": "8a2a9bee95252bf7",
   "outputs": [],
   "execution_count": 47
  },
  {
   "metadata": {
    "ExecuteTime": {
     "end_time": "2024-12-30T04:20:24.526636Z",
     "start_time": "2024-12-30T04:20:24.186163Z"
    }
   },
   "cell_type": "code",
   "source": [
    "source_df = spark\\\n",
    "    .read\\\n",
    "    .format(\"csv\")\\\n",
    "    .option(\"header\",True)\\\n",
    "    .option(\"inferSchema\",True)\\\n",
    "    .load(\"/Users/sahilnagpal/Desktop/wordsToSpeak/SlowlyChangingDimension/dataset/source-file-version.csv\")\n",
    "\n",
    "source_df.show()"
   ],
   "id": "455cd5191bd6a24e",
   "outputs": [
    {
     "name": "stdout",
     "output_type": "stream",
     "text": [
      "+---+-------+----------+\n",
      "| id|   name|department|\n",
      "+---+-------+----------+\n",
      "|  1|  Alice|        HR|\n",
      "|  2|    Bob|   Finance|\n",
      "|  3|Charlie|        IT|\n",
      "|  4|  Diana|        HR|\n",
      "|  5|    Eve|        IT|\n",
      "+---+-------+----------+\n",
      "\n"
     ]
    }
   ],
   "execution_count": 48
  },
  {
   "metadata": {
    "ExecuteTime": {
     "end_time": "2024-12-30T04:20:24.838915Z",
     "start_time": "2024-12-30T04:20:24.577585Z"
    }
   },
   "cell_type": "code",
   "source": [
    "existing_df = spark\\\n",
    "    .read\\\n",
    "    .format(\"csv\")\\\n",
    "    .option(\"header\",True)\\\n",
    "    .option(\"inferSchema\",True)\\\n",
    "    .load(\"/Users/sahilnagpal/Desktop/wordsToSpeak/SlowlyChangingDimension/dataset/dimension-file-version.csv\")\n",
    "\n",
    "existing_df.show()"
   ],
   "id": "a10c030c01962b72",
   "outputs": [
    {
     "name": "stdout",
     "output_type": "stream",
     "text": [
      "+---+-------+----------+---------+-------+\n",
      "| id|   name|department|is_active|version|\n",
      "+---+-------+----------+---------+-------+\n",
      "|  1|  Alice|        HR|     true|    1.0|\n",
      "|  2|    Bob|   Finance|     true|    1.0|\n",
      "|  3|Charlie|        IT|     true|    1.0|\n",
      "|  4|  Diana| Marketing|     true|    1.0|\n",
      "+---+-------+----------+---------+-------+\n",
      "\n"
     ]
    }
   ],
   "execution_count": 49
  },
  {
   "metadata": {
    "ExecuteTime": {
     "end_time": "2024-12-30T04:20:25.063402Z",
     "start_time": "2024-12-30T04:20:24.872102Z"
    }
   },
   "cell_type": "code",
   "source": [
    "joined_df = source_df\\\n",
    "    .join(existing_df,on= source_df.id == existing_df.id,how=\"left_outer\")\n",
    "\n",
    "joined_df.show()"
   ],
   "id": "1be5e714e98a882e",
   "outputs": [
    {
     "name": "stdout",
     "output_type": "stream",
     "text": [
      "+---+-------+----------+----+-------+----------+---------+-------+\n",
      "| id|   name|department|  id|   name|department|is_active|version|\n",
      "+---+-------+----------+----+-------+----------+---------+-------+\n",
      "|  1|  Alice|        HR|   1|  Alice|        HR|     true|    1.0|\n",
      "|  2|    Bob|   Finance|   2|    Bob|   Finance|     true|    1.0|\n",
      "|  3|Charlie|        IT|   3|Charlie|        IT|     true|    1.0|\n",
      "|  4|  Diana|        HR|   4|  Diana| Marketing|     true|    1.0|\n",
      "|  5|    Eve|        IT|NULL|   NULL|      NULL|     NULL|   NULL|\n",
      "+---+-------+----------+----+-------+----------+---------+-------+\n",
      "\n"
     ]
    }
   ],
   "execution_count": 50
  },
  {
   "metadata": {
    "ExecuteTime": {
     "end_time": "2024-12-30T04:20:25.286468Z",
     "start_time": "2024-12-30T04:20:25.087435Z"
    }
   },
   "cell_type": "code",
   "source": [
    "new_records = joined_df\\\n",
    "    .filter(existing_df.id.isNull())\\\n",
    "    .withColumn(\"is_active\",lit(True))\\\n",
    "    .withColumn(\"version\",lit(1))\\\n",
    "    .select(source_df.id,source_df.name,source_df.department,\"is_active\",\"version\")\n",
    "\n",
    "new_records.show()"
   ],
   "id": "2af39851506ca248",
   "outputs": [
    {
     "name": "stdout",
     "output_type": "stream",
     "text": [
      "+---+----+----------+---------+-------+\n",
      "| id|name|department|is_active|version|\n",
      "+---+----+----------+---------+-------+\n",
      "|  5| Eve|        IT|     true|      1|\n",
      "+---+----+----------+---------+-------+\n",
      "\n"
     ]
    }
   ],
   "execution_count": 51
  },
  {
   "metadata": {
    "ExecuteTime": {
     "end_time": "2024-12-30T04:20:25.471916Z",
     "start_time": "2024-12-30T04:20:25.313140Z"
    }
   },
   "cell_type": "code",
   "source": [
    "changed_records = joined_df\\\n",
    "    .filter(\n",
    "    (existing_df.id.isNotNull()) & ((existing_df.name != source_df.name) | (existing_df.department != source_df.department))\n",
    ")\n",
    "\n",
    "changed_records.show()"
   ],
   "id": "4c9fd0e7173e099f",
   "outputs": [
    {
     "name": "stdout",
     "output_type": "stream",
     "text": [
      "+---+-----+----------+---+-----+----------+---------+-------+\n",
      "| id| name|department| id| name|department|is_active|version|\n",
      "+---+-----+----------+---+-----+----------+---------+-------+\n",
      "|  4|Diana|        HR|  4|Diana| Marketing|     true|    1.0|\n",
      "+---+-----+----------+---+-----+----------+---------+-------+\n",
      "\n"
     ]
    }
   ],
   "execution_count": 52
  },
  {
   "metadata": {
    "ExecuteTime": {
     "end_time": "2024-12-30T04:20:25.682775Z",
     "start_time": "2024-12-30T04:20:25.515001Z"
    }
   },
   "cell_type": "code",
   "source": [
    "updated_records = changed_records\\\n",
    "    .select(source_df.id,source_df.name,source_df.department,existing_df.is_active,(existing_df.version+1).alias(\"version\"))\n",
    "updated_records.show()"
   ],
   "id": "3eccceac6121428a",
   "outputs": [
    {
     "name": "stdout",
     "output_type": "stream",
     "text": [
      "+---+-----+----------+---------+-------+\n",
      "| id| name|department|is_active|version|\n",
      "+---+-----+----------+---------+-------+\n",
      "|  4|Diana|        HR|     true|    2.0|\n",
      "+---+-----+----------+---------+-------+\n",
      "\n"
     ]
    }
   ],
   "execution_count": 53
  },
  {
   "metadata": {
    "ExecuteTime": {
     "end_time": "2024-12-30T04:20:25.913615Z",
     "start_time": "2024-12-30T04:20:25.727477Z"
    }
   },
   "cell_type": "code",
   "source": [
    "expired_record = changed_records\\\n",
    "    .select(\n",
    "        existing_df.id,\n",
    "        existing_df.name,\n",
    "        existing_df.department,\n",
    "        lit(False).alias(\"is_active\"),  # Expire the old record\n",
    "        existing_df.version\n",
    "    )\n",
    "\n",
    "expired_record.show()"
   ],
   "id": "10e9d911682d8a82",
   "outputs": [
    {
     "name": "stdout",
     "output_type": "stream",
     "text": [
      "+---+-----+----------+---------+-------+\n",
      "| id| name|department|is_active|version|\n",
      "+---+-----+----------+---------+-------+\n",
      "|  4|Diana| Marketing|    false|    1.0|\n",
      "+---+-----+----------+---------+-------+\n",
      "\n"
     ]
    }
   ],
   "execution_count": 54
  },
  {
   "metadata": {
    "ExecuteTime": {
     "end_time": "2024-12-30T04:20:26.217587Z",
     "start_time": "2024-12-30T04:20:25.938592Z"
    }
   },
   "cell_type": "code",
   "source": [
    "scd2_updates = updated_records.union(new_records)\n",
    "\n",
    "scd2_updates.show()"
   ],
   "id": "fc586c39ade3964d",
   "outputs": [
    {
     "name": "stdout",
     "output_type": "stream",
     "text": [
      "+---+-----+----------+---------+-------+\n",
      "| id| name|department|is_active|version|\n",
      "+---+-----+----------+---------+-------+\n",
      "|  4|Diana|        HR|     true|    2.0|\n",
      "|  5|  Eve|        IT|     true|    1.0|\n",
      "+---+-----+----------+---------+-------+\n",
      "\n"
     ]
    }
   ],
   "execution_count": 55
  },
  {
   "metadata": {
    "ExecuteTime": {
     "end_time": "2024-12-30T04:20:26.737508Z",
     "start_time": "2024-12-30T04:20:26.272253Z"
    }
   },
   "cell_type": "code",
   "source": [
    "final_df = existing_df\\\n",
    "    .union(scd2_updates)\\\n",
    "    .union(expired_record)\n",
    "\n",
    "final_df.show()"
   ],
   "id": "73dd57c1e259733d",
   "outputs": [
    {
     "name": "stdout",
     "output_type": "stream",
     "text": [
      "+---+-------+----------+---------+-------+\n",
      "| id|   name|department|is_active|version|\n",
      "+---+-------+----------+---------+-------+\n",
      "|  1|  Alice|        HR|     true|    1.0|\n",
      "|  2|    Bob|   Finance|     true|    1.0|\n",
      "|  3|Charlie|        IT|     true|    1.0|\n",
      "|  4|  Diana| Marketing|     true|    1.0|\n",
      "|  4|  Diana|        HR|     true|    2.0|\n",
      "|  5|    Eve|        IT|     true|    1.0|\n",
      "|  4|  Diana| Marketing|    false|    1.0|\n",
      "+---+-------+----------+---------+-------+\n",
      "\n"
     ]
    }
   ],
   "execution_count": 56
  },
  {
   "metadata": {
    "ExecuteTime": {
     "end_time": "2024-12-30T04:25:19.713378Z",
     "start_time": "2024-12-30T04:25:19.101473Z"
    }
   },
   "cell_type": "code",
   "source": [
    "df_with_row_num = final_df\\\n",
    "    .withColumn(\"row_num\",row_number().over(Window.partitionBy(col(\"id\"))\\\n",
    "                                            .orderBy(col(\"is_active\").desc(),col(\"version\").desc())))\n",
    "\n",
    "final_df = df_with_row_num\\\n",
    "    .filter(\n",
    "    ((col(\"is_active\")==True) & (col(\"row_num\")==1)) | (col(\"is_active\") == False))\\\n",
    "    .drop(\"row_num\")\n",
    "\n",
    "final_df.show()"
   ],
   "id": "291a5ef40c8efb47",
   "outputs": [
    {
     "name": "stdout",
     "output_type": "stream",
     "text": [
      "+---+-------+----------+---------+-------+\n",
      "| id|   name|department|is_active|version|\n",
      "+---+-------+----------+---------+-------+\n",
      "|  1|  Alice|        HR|     true|    1.0|\n",
      "|  2|    Bob|   Finance|     true|    1.0|\n",
      "|  3|Charlie|        IT|     true|    1.0|\n",
      "|  4|  Diana|        HR|     true|    2.0|\n",
      "|  4|  Diana| Marketing|    false|    1.0|\n",
      "|  5|    Eve|        IT|     true|    1.0|\n",
      "+---+-------+----------+---------+-------+\n",
      "\n"
     ]
    }
   ],
   "execution_count": 64
  },
  {
   "metadata": {
    "ExecuteTime": {
     "end_time": "2024-12-30T04:20:26.836080Z",
     "start_time": "2024-12-30T04:20:26.832808Z"
    }
   },
   "cell_type": "code",
   "source": "",
   "id": "1603652858da75d5",
   "outputs": [],
   "execution_count": null
  },
  {
   "metadata": {
    "ExecuteTime": {
     "end_time": "2024-12-30T04:20:26.952303Z",
     "start_time": "2024-12-30T04:20:26.949547Z"
    }
   },
   "cell_type": "code",
   "source": "",
   "id": "5ad8469224a195c9",
   "outputs": [],
   "execution_count": null
  }
 ],
 "metadata": {
  "kernelspec": {
   "display_name": "Python 3",
   "language": "python",
   "name": "python3"
  },
  "language_info": {
   "codemirror_mode": {
    "name": "ipython",
    "version": 2
   },
   "file_extension": ".py",
   "mimetype": "text/x-python",
   "name": "python",
   "nbconvert_exporter": "python",
   "pygments_lexer": "ipython2",
   "version": "2.7.6"
  }
 },
 "nbformat": 4,
 "nbformat_minor": 5
}
