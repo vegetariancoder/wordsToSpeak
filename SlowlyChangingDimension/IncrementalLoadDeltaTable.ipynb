{
 "cells": [
  {
   "cell_type": "code",
   "id": "initial_id",
   "metadata": {
    "collapsed": true,
    "ExecuteTime": {
     "end_time": "2025-07-07T01:45:50.735153Z",
     "start_time": "2025-07-07T01:45:50.630894Z"
    }
   },
   "source": [
    "from pyspark.sql import SparkSession\n",
    "from pyspark.sql.functions import to_timestamp\n",
    "\n",
    "spark = SparkSession.builder \\\n",
    "    .appName(\"InitialDeltaTable\") \\\n",
    "    .getOrCreate()\n",
    "\n",
    "# Base data for July 4\n",
    "data_july_4 = [\n",
    "    (101, 'C001', 250.0, '2025-07-04 09:00:00'),\n",
    "    (102, 'C002', 120.5, '2025-07-04 09:05:00'),\n",
    "    (103, 'C003', 300.0, '2025-07-04 09:10:00')\n",
    "]\n",
    "\n",
    "columns = ['txn_id', 'customer_id', 'amount', 'last_updated']\n",
    "\n",
    "df = spark.createDataFrame(data_july_4, columns) \\\n",
    "    .withColumn(\"last_updated\", to_timestamp(\"last_updated\"))\n",
    "\n",
    "# Define delta table path\n",
    "delta_path = \"/Users/sahilnagpal/Desktop/wordsToSpeak/SlowlyChangingDimension/delta_table_location/\""
   ],
   "outputs": [],
   "execution_count": 5
  },
  {
   "metadata": {
    "ExecuteTime": {
     "end_time": "2025-07-07T00:52:09.975631Z",
     "start_time": "2025-07-07T00:52:08.448397Z"
    }
   },
   "cell_type": "code",
   "source": "df.show()",
   "id": "74c029d34a2c5fca",
   "outputs": [
    {
     "name": "stderr",
     "output_type": "stream",
     "text": [
      "[Stage 0:>                                                          (0 + 1) / 1]\r"
     ]
    },
    {
     "name": "stdout",
     "output_type": "stream",
     "text": [
      "+------+-----------+------+-------------------+\n",
      "|txn_id|customer_id|amount|       last_updated|\n",
      "+------+-----------+------+-------------------+\n",
      "|   101|       C001| 250.0|2025-07-04 09:00:00|\n",
      "|   102|       C002| 120.5|2025-07-04 09:05:00|\n",
      "|   103|       C003| 300.0|2025-07-04 09:10:00|\n",
      "+------+-----------+------+-------------------+\n",
      "\n"
     ]
    },
    {
     "name": "stderr",
     "output_type": "stream",
     "text": [
      "                                                                                \r"
     ]
    }
   ],
   "execution_count": 3
  },
  {
   "metadata": {
    "ExecuteTime": {
     "end_time": "2025-07-07T01:45:47.302864Z",
     "start_time": "2025-07-07T01:45:47.295693Z"
    }
   },
   "cell_type": "code",
   "source": "print(\"sahil\")",
   "id": "c8d6c110708c4cc",
   "outputs": [
    {
     "name": "stdout",
     "output_type": "stream",
     "text": [
      "sahil\n"
     ]
    }
   ],
   "execution_count": 4
  },
  {
   "metadata": {},
   "cell_type": "code",
   "outputs": [],
   "execution_count": null,
   "source": "",
   "id": "c70c5ebdfcc5e8af"
  }
 ],
 "metadata": {
  "kernelspec": {
   "display_name": "Python 3",
   "language": "python",
   "name": "python3"
  },
  "language_info": {
   "codemirror_mode": {
    "name": "ipython",
    "version": 2
   },
   "file_extension": ".py",
   "mimetype": "text/x-python",
   "name": "python",
   "nbconvert_exporter": "python",
   "pygments_lexer": "ipython2",
   "version": "2.7.6"
  }
 },
 "nbformat": 4,
 "nbformat_minor": 5
}
